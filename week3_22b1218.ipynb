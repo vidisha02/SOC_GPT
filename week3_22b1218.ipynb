{
  "nbformat": 4,
  "nbformat_minor": 0,
  "metadata": {
    "colab": {
      "provenance": [],
      "authorship_tag": "ABX9TyPXv7VK+htAsOnHYpyD1tiR",
      "include_colab_link": true
    },
    "kernelspec": {
      "name": "python3",
      "display_name": "Python 3"
    },
    "language_info": {
      "name": "python"
    }
  },
  "cells": [
    {
      "cell_type": "markdown",
      "metadata": {
        "id": "view-in-github",
        "colab_type": "text"
      },
      "source": [
        "<a href=\"https://colab.research.google.com/github/vidisha02/SOC_GPT/blob/main/week3_22b1218.ipynb\" target=\"_parent\"><img src=\"https://colab.research.google.com/assets/colab-badge.svg\" alt=\"Open In Colab\"/></a>"
      ]
    },
    {
      "cell_type": "code",
      "execution_count": null,
      "metadata": {
        "id": "MWhlA4HPvFgm"
      },
      "outputs": [],
      "source": [
        "import torch\n",
        "import torch.nn.functional as F\n",
        "import matplotlib.pyplot as plt # for making figures\n",
        "%matplotlib inline"
      ]
    },
    {
      "cell_type": "code",
      "source": [
        "words=open('names.txt','r').read().splitlines()"
      ],
      "metadata": {
        "id": "4UgYPsegvTk6"
      },
      "execution_count": null,
      "outputs": []
    },
    {
      "cell_type": "code",
      "source": [
        "chars=sorted(list(set(''.join(words))))\n",
        "stoi={s:i+1 for i,s in enumerate(chars)}\n",
        "stoi['.']=0\n",
        "itos={i:s for s,i in stoi.items()}\n",
        "print(itos)\n",
        "vocab_size = len(itos)"
      ],
      "metadata": {
        "colab": {
          "base_uri": "https://localhost:8080/"
        },
        "id": "UNoZw-MPvncd",
        "outputId": "77e052c0-bdd5-4d5d-8ed4-4d40eb7d3f94"
      },
      "execution_count": null,
      "outputs": [
        {
          "output_type": "stream",
          "name": "stdout",
          "text": [
            "{1: 'a', 2: 'b', 3: 'c', 4: 'd', 5: 'e', 6: 'f', 7: 'g', 8: 'h', 9: 'i', 10: 'j', 11: 'k', 12: 'l', 13: 'm', 14: 'n', 15: 'o', 16: 'p', 17: 'q', 18: 'r', 19: 's', 20: 't', 21: 'u', 22: 'v', 23: 'w', 24: 'x', 25: 'y', 26: 'z', 0: '.'}\n"
          ]
        }
      ]
    },
    {
      "cell_type": "code",
      "source": [
        "blocksize=2\n",
        "def build_dataset(words):\n",
        "\n",
        "    X,Y=[],[]\n",
        "    for w in words:\n",
        "    # print(w)\n",
        "        context=[0]* blocksize\n",
        "        for ch in w+'.':\n",
        "            ix=stoi[ch]\n",
        "            X.append(context)\n",
        "            Y.append(ix)\n",
        "      # print(''.join(itos[i] for i in context), '--->', itos[ix])\n",
        "        context=context[1:]+[ix]\n",
        "\n",
        "    X=torch.tensor(X)\n",
        "    Y=torch.tensor(Y)\n",
        "    return X,Y\n",
        "import random\n",
        "random.shuffle(words)\n",
        "n1=int(0.8*len(words))\n",
        "n2=int(0.9*len(words))\n",
        "\n",
        "Xtr,Ytr=build_dataset(words[:n1])\n",
        "Xdev,Ydev=build_dataset(words[n1:n2])\n",
        "Xte,Yte=build_dataset(words[n2:])"
      ],
      "metadata": {
        "id": "lkgetFrdv7Gd"
      },
      "execution_count": null,
      "outputs": []
    },
    {
      "cell_type": "code",
      "source": [
        "n_embd = 10 # the dimensionality of the character embedding vectors\n",
        "n_hidden = 200 # the number of neurons in the hidden layer of the MLP\n",
        "g = torch.Generator().manual_seed(2147483647) # for reproducibility\n",
        "C  = torch.randn((vocab_size, n_embd),            generator=g)\n",
        "W1 = torch.randn((n_embd * blocksize, n_hidden), generator=g) *(5/3)/((n_embd*blocksize)**0.5)\n",
        "b1 = torch.randn(n_hidden,                        generator=g) *0.01\n",
        "W2 = torch.randn((n_hidden, vocab_size),          generator=g) *0.01\n",
        "b2 = torch.randn(vocab_size,                      generator=g) *0\n",
        "bngain=torch.ones((1,n_hidden))\n",
        "bnbias=torch.zeros((1,n_hidden))\n",
        "bnmean_running = torch.zeros((1, n_hidden))\n",
        "bnstd_running = torch.ones((1, n_hidden))\n",
        "\n",
        "parameters = [C, W1, W2, b2,bngain,bnbias]\n",
        "print(sum(p.nelement() for p in parameters)) # number of parameters in total\n",
        "for p in parameters:\n",
        "  p.requires_grad = True"
      ],
      "metadata": {
        "colab": {
          "base_uri": "https://localhost:8080/"
        },
        "id": "9Rz_0bOGwM9G",
        "outputId": "0a80e184-fbed-4043-c8a0-d6952cdb8920"
      },
      "execution_count": null,
      "outputs": [
        {
          "output_type": "stream",
          "name": "stdout",
          "text": [
            "10097\n"
          ]
        }
      ]
    },
    {
      "cell_type": "code",
      "source": [
        "lossi=[]\n",
        "batch_size = 80\n",
        "max_steps = 200000\n",
        "for i in range(max_steps):\n",
        "\n",
        "  # minibatch construct\n",
        "  ix = torch.randint(0, Xtr.shape[0], (batch_size,), generator=g)\n",
        "  Xb, Yb = Xtr[ix], Ytr[ix] # batch X,Y\n",
        "  emb = C[Xb] # embed the characters into vectors\n",
        "  embcat = emb.view(emb.shape[0], -1) # concatenate the vectors\n",
        "  #print(embcat)\n",
        "  # Linear layer\n",
        "  hpreact = embcat @ W1 + b1\n",
        "  #print(hpreact)\n",
        "  #batch norm\n",
        "  bnmeani = hpreact.mean(0, keepdim=True)\n",
        "  bnstdi = hpreact.std(0, keepdim=True)+ 1e-5\n",
        "  hpreact = bngain * (hpreact - bnmeani) / bnstdi + bnbias\n",
        " # print(bnstdi)\n",
        "  with torch.no_grad():\n",
        "    bnmean_running = 0.999 * bnmean_running + 0.001 * bnmeani\n",
        "    bnstd_running = 0.999 * bnstd_running + 0.001 * bnstdi\n",
        "  # Non-linearity\n",
        "  h = torch.tanh(hpreact)\n",
        "  logits = h @ W2 + b2 # output layer\n",
        "  loss = F.cross_entropy(logits, Yb) # loss function\n",
        "  for p in parameters:\n",
        "    p.grad = None\n",
        "  loss.backward()\n",
        "  lr = 0.1 if i < 100000 else 0.01 # step learning rate decay\n",
        "  for p in parameters:\n",
        "    p.data += -lr * p.grad\n",
        "  if i % 10000 == 0: # print every once in a while\n",
        "    print(f'{i:7d}/{max_steps:7d}: {loss.item():.4f}')\n",
        "\n",
        "  lossi.append(loss.log10().item())\n"
      ],
      "metadata": {
        "colab": {
          "base_uri": "https://localhost:8080/"
        },
        "id": "S0zNHw2Hx375",
        "outputId": "7a16a822-cbec-4054-8656-48ab21bb1dbe"
      },
      "execution_count": null,
      "outputs": [
        {
          "output_type": "stream",
          "name": "stdout",
          "text": [
            "      0/ 200000: 3.2964\n",
            "  10000/ 200000: 2.8814\n",
            "  20000/ 200000: 2.8036\n",
            "  30000/ 200000: 2.7474\n",
            "  40000/ 200000: 2.8232\n",
            "  50000/ 200000: 2.7848\n",
            "  60000/ 200000: 2.9411\n",
            "  70000/ 200000: 2.9307\n",
            "  80000/ 200000: 2.8364\n",
            "  90000/ 200000: 2.9105\n",
            " 100000/ 200000: 2.8326\n",
            " 110000/ 200000: 2.9614\n",
            " 120000/ 200000: 2.7053\n",
            " 130000/ 200000: 2.6867\n",
            " 140000/ 200000: 2.7778\n",
            " 150000/ 200000: 2.7851\n",
            " 160000/ 200000: 2.8678\n",
            " 170000/ 200000: 2.7610\n",
            " 180000/ 200000: 2.8501\n",
            " 190000/ 200000: 2.7544\n"
          ]
        }
      ]
    },
    {
      "cell_type": "code",
      "source": [
        "# calibrate the batch norm at the end of training\n",
        "\n",
        "with torch.no_grad():\n",
        "  # pass the training set through\n",
        "  emb = C[Xtr]\n",
        "  embcat = emb.view(emb.shape[0], -1)\n",
        "  hpreact = embcat @ W1 # + b1\n",
        "  # measure the mean/std over the entire training set\n",
        "  bnmeani = hpreact.mean(0, keepdim=True)\n",
        "  bnstdi = hpreact.std(0, keepdim=True)"
      ],
      "metadata": {
        "id": "BxrexOBRF8H0"
      },
      "execution_count": null,
      "outputs": []
    },
    {
      "cell_type": "code",
      "source": [
        "@torch.no_grad() # this decorator disables gradient tracking\n",
        "def split_loss(split):\n",
        "  x,y = {\n",
        "    'train': (Xtr, Ytr),\n",
        "    'val': (Xdev, Ydev),\n",
        "    'test': (Xte, Yte),\n",
        "  }[split]\n",
        "  emb = C[x] # (N, block_size, n_embd)\n",
        "  embcat = emb.view(emb.shape[0], -1) # concat into (N, block_size * n_embd)\n",
        "  hpreact = embcat @ W1  + b1\n",
        "\n",
        "  hpreact = bngain * (hpreact - bnmean_running) / bnstd_running + bnbias\n",
        "  h = torch.tanh(hpreact) # (N, n_hidden)\n",
        "  logits = h @ W2 + b2 # (N, vocab_size)\n",
        "  loss = F.cross_entropy(logits, y)\n",
        "  print(split, loss.item())\n",
        "\n",
        "split_loss('train')\n",
        "split_loss('val')"
      ],
      "metadata": {
        "colab": {
          "base_uri": "https://localhost:8080/"
        },
        "id": "UkT5cTycz5yQ",
        "outputId": "61beceb1-effb-41c2-ed99-f15cfde6c79a"
      },
      "execution_count": null,
      "outputs": [
        {
          "output_type": "stream",
          "name": "stdout",
          "text": [
            "train 2.8361928462982178\n",
            "val 2.829237461090088\n"
          ]
        }
      ]
    },
    {
      "cell_type": "code",
      "source": [
        "bnmean_running"
      ],
      "metadata": {
        "colab": {
          "base_uri": "https://localhost:8080/"
        },
        "id": "ESFMzRcI0n4v",
        "outputId": "c1fc307d-5435-4281-f7d9-792972249705"
      },
      "execution_count": null,
      "outputs": [
        {
          "output_type": "execute_result",
          "data": {
            "text/plain": [
              "tensor([[-1.7790e-04,  9.3513e-05,  5.9275e-04,  8.5744e-04,  2.9018e-03,\n",
              "          2.4782e-03,  8.6591e-04, -8.3598e-04, -1.6511e-03, -1.2940e-04,\n",
              "         -8.7074e-04, -9.2555e-04, -1.1260e-04, -8.0415e-04, -5.6077e-04,\n",
              "         -1.8292e-04, -1.2400e-04,  6.6950e-04,  3.4143e-04,  2.3904e-03,\n",
              "          5.9338e-04, -1.0385e-03, -6.3765e-04,  2.3686e-03, -5.5471e-05,\n",
              "          2.5760e-05, -1.5510e-03,  1.5278e-03, -1.3791e-03,  7.8750e-04,\n",
              "         -3.5192e-04, -1.6714e-03,  1.3393e-03,  1.7677e-03, -2.5129e-03,\n",
              "         -1.6825e-03, -9.7389e-04, -2.5741e-03,  9.2010e-04,  1.2929e-03,\n",
              "         -1.4243e-03, -1.4036e-03, -1.1524e-03, -2.8446e-03,  6.7485e-04,\n",
              "          4.0156e-04, -5.6678e-04, -9.9535e-04,  7.5596e-04,  2.0262e-03,\n",
              "          8.5607e-06,  2.5890e-04,  1.0926e-03,  4.6882e-04,  1.0670e-03,\n",
              "         -1.8383e-03,  1.0378e-04,  3.7025e-04,  3.1065e-03, -1.1766e-04,\n",
              "          4.7767e-04, -6.3792e-04, -4.0523e-04,  1.4112e-03,  1.4460e-03,\n",
              "          1.2434e-03,  9.0810e-04,  5.5022e-04, -1.4210e-03, -6.9724e-04,\n",
              "          7.9774e-05,  2.1951e-03,  1.1882e-03, -5.8741e-04, -2.0441e-03,\n",
              "          1.6854e-03,  1.2416e-03,  5.4067e-04,  2.4635e-04, -1.9353e-04,\n",
              "          2.2652e-03,  4.2817e-04,  3.6554e-04,  3.8299e-04, -6.0650e-04,\n",
              "          1.7574e-04, -8.9739e-04, -1.4316e-03,  2.3548e-03, -1.1816e-03,\n",
              "          1.8543e-03,  1.3842e-03,  1.9474e-04,  1.4333e-03,  1.5552e-03,\n",
              "         -1.8154e-05, -8.4846e-04, -1.1081e-03, -7.3331e-05, -2.4109e-03,\n",
              "         -1.4225e-03,  5.9302e-04, -3.2649e-03, -5.3924e-05,  1.4759e-04,\n",
              "          8.9523e-04, -2.7962e-03, -2.0911e-03,  8.6426e-04, -5.1186e-04,\n",
              "         -5.1011e-04,  9.6973e-04, -6.2870e-04,  2.1407e-03, -3.2185e-04,\n",
              "          1.6499e-03,  6.0952e-04, -1.0903e-03,  2.1357e-03, -1.1813e-03,\n",
              "         -1.4130e-03, -7.8327e-04,  2.1849e-03,  5.3534e-04, -6.7276e-04,\n",
              "         -7.0461e-04,  1.5912e-03, -2.1077e-03, -7.7257e-04,  9.3137e-04,\n",
              "          1.0970e-03,  1.4875e-03,  1.4766e-03, -1.7186e-03, -2.5489e-04,\n",
              "         -4.6380e-04,  6.5531e-04, -4.9746e-04,  4.6636e-04,  1.4477e-03,\n",
              "          5.9888e-04,  5.5358e-04, -4.0168e-04,  3.6722e-04,  1.2587e-03,\n",
              "         -1.2798e-03, -8.1811e-04,  4.4667e-04,  4.1360e-04,  2.2032e-03,\n",
              "          2.7730e-03, -1.3772e-03, -2.3666e-04,  1.6587e-03, -7.3367e-04,\n",
              "         -1.0932e-03, -5.1993e-05, -1.0947e-03, -4.3496e-04, -3.5309e-04,\n",
              "          1.3216e-03,  2.1159e-03,  9.1512e-05, -3.4902e-03, -2.8745e-04,\n",
              "         -1.6267e-03, -2.9466e-04,  4.0035e-04, -1.5265e-03, -4.4410e-04,\n",
              "          3.7734e-04,  2.9919e-04,  8.6004e-04,  2.8613e-04,  1.9567e-05,\n",
              "          2.5074e-03,  1.8748e-03, -3.3411e-03, -4.4105e-05, -7.4771e-04,\n",
              "          5.2705e-04, -9.0931e-04, -1.6884e-03,  1.5761e-03,  3.3096e-06,\n",
              "          2.6917e-04, -4.0252e-04, -9.8305e-04,  3.7514e-03,  1.3151e-03,\n",
              "          1.9740e-03,  1.8979e-03, -6.3346e-04,  8.7095e-04, -8.4532e-04,\n",
              "          1.6424e-03,  1.0628e-03, -1.2369e-03,  1.9087e-03,  3.2386e-03]])"
            ]
          },
          "metadata": {},
          "execution_count": 78
        }
      ]
    },
    {
      "cell_type": "code",
      "source": [
        "bnmeani"
      ],
      "metadata": {
        "colab": {
          "base_uri": "https://localhost:8080/"
        },
        "id": "WhhXEc5XGLvA",
        "outputId": "0e07db31-48d6-46c8-ca98-42772c9db290"
      },
      "execution_count": null,
      "outputs": [
        {
          "output_type": "execute_result",
          "data": {
            "text/plain": [
              "tensor([[-1.7790e-01,  9.3513e-02,  5.9275e-01,  8.5744e-01,  2.9018e+00,\n",
              "          2.4782e+00,  8.6591e-01, -8.3598e-01, -1.6511e+00, -1.2940e-01,\n",
              "         -8.7074e-01, -9.2555e-01, -1.1260e-01, -8.0415e-01, -5.6077e-01,\n",
              "         -1.8292e-01, -1.2400e-01,  6.6950e-01,  3.4143e-01,  2.3904e+00,\n",
              "          5.9338e-01, -1.0385e+00, -6.3765e-01,  2.3686e+00, -5.5471e-02,\n",
              "          2.5760e-02, -1.5510e+00,  1.5278e+00, -1.3791e+00,  7.8750e-01,\n",
              "         -3.5192e-01, -1.6714e+00,  1.3393e+00,  1.7677e+00, -2.5129e+00,\n",
              "         -1.6825e+00, -9.7389e-01, -2.5741e+00,  9.2010e-01,  1.2929e+00,\n",
              "         -1.4243e+00, -1.4036e+00, -1.1524e+00, -2.8446e+00,  6.7485e-01,\n",
              "          4.0156e-01, -5.6678e-01, -9.9535e-01,  7.5596e-01,  2.0262e+00,\n",
              "          8.5607e-03,  2.5890e-01,  1.0926e+00,  4.6882e-01,  1.0670e+00,\n",
              "         -1.8383e+00,  1.0378e-01,  3.7025e-01,  3.1065e+00, -1.1766e-01,\n",
              "          4.7767e-01, -6.3792e-01, -4.0523e-01,  1.4112e+00,  1.4460e+00,\n",
              "          1.2434e+00,  9.0810e-01,  5.5022e-01, -1.4210e+00, -6.9724e-01,\n",
              "          7.9774e-02,  2.1951e+00,  1.1882e+00, -5.8741e-01, -2.0441e+00,\n",
              "          1.6854e+00,  1.2416e+00,  5.4067e-01,  2.4635e-01, -1.9353e-01,\n",
              "          2.2652e+00,  4.2817e-01,  3.6554e-01,  3.8299e-01, -6.0650e-01,\n",
              "          1.7574e-01, -8.9739e-01, -1.4316e+00,  2.3548e+00, -1.1816e+00,\n",
              "          1.8543e+00,  1.3842e+00,  1.9474e-01,  1.4333e+00,  1.5552e+00,\n",
              "         -1.8154e-02, -8.4846e-01, -1.1081e+00, -7.3331e-02, -2.4109e+00,\n",
              "         -1.4225e+00,  5.9302e-01, -3.2649e+00, -5.3924e-02,  1.4759e-01,\n",
              "          8.9523e-01, -2.7962e+00, -2.0911e+00,  8.6426e-01, -5.1186e-01,\n",
              "         -5.1011e-01,  9.6973e-01, -6.2870e-01,  2.1407e+00, -3.2185e-01,\n",
              "          1.6499e+00,  6.0952e-01, -1.0903e+00,  2.1357e+00, -1.1813e+00,\n",
              "         -1.4130e+00, -7.8327e-01,  2.1849e+00,  5.3534e-01, -6.7276e-01,\n",
              "         -7.0461e-01,  1.5912e+00, -2.1077e+00, -7.7257e-01,  9.3137e-01,\n",
              "          1.0970e+00,  1.4875e+00,  1.4766e+00, -1.7186e+00, -2.5489e-01,\n",
              "         -4.6380e-01,  6.5531e-01, -4.9746e-01,  4.6636e-01,  1.4477e+00,\n",
              "          5.9888e-01,  5.5358e-01, -4.0168e-01,  3.6722e-01,  1.2587e+00,\n",
              "         -1.2798e+00, -8.1811e-01,  4.4667e-01,  4.1360e-01,  2.2032e+00,\n",
              "          2.7730e+00, -1.3772e+00, -2.3666e-01,  1.6587e+00, -7.3367e-01,\n",
              "         -1.0932e+00, -5.1993e-02, -1.0947e+00, -4.3496e-01, -3.5309e-01,\n",
              "          1.3216e+00,  2.1159e+00,  9.1512e-02, -3.4902e+00, -2.8745e-01,\n",
              "         -1.6267e+00, -2.9466e-01,  4.0035e-01, -1.5265e+00, -4.4410e-01,\n",
              "          3.7734e-01,  2.9919e-01,  8.6004e-01,  2.8613e-01,  1.9567e-02,\n",
              "          2.5074e+00,  1.8748e+00, -3.3411e+00, -4.4105e-02, -7.4771e-01,\n",
              "          5.2705e-01, -9.0931e-01, -1.6884e+00,  1.5761e+00,  3.3096e-03,\n",
              "          2.6917e-01, -4.0252e-01, -9.8305e-01,  3.7514e+00,  1.3151e+00,\n",
              "          1.9740e+00,  1.8979e+00, -6.3346e-01,  8.7095e-01, -8.4532e-01,\n",
              "          1.6424e+00,  1.0628e+00, -1.2369e+00,  1.9087e+00,  3.2386e+00]],\n",
              "       grad_fn=<MeanBackward1>)"
            ]
          },
          "metadata": {},
          "execution_count": 72
        }
      ]
    },
    {
      "cell_type": "code",
      "source": [
        "n_embd = 10 # the dimensionality of the character embedding vectors\n",
        "n_hidden = 200 # the number of neurons in the hidden layer of the MLP\n",
        "g = torch.Generator().manual_seed(2147483647) # for reproducibility\n",
        "C  = torch.randn((vocab_size, n_embd),            generator=g)\n",
        "W1 = torch.randn((n_embd * blocksize, n_hidden), generator=g)  *0\n",
        "b1 = torch.randn(n_hidden,                        generator=g) *0\n",
        "W2 = torch.randn((n_hidden, vocab_size),          generator=g) *0\n",
        "b2 = torch.randn(vocab_size,                      generator=g) *0\n",
        "\n",
        "\n",
        "parameters = [C, W1, W2, b2]\n",
        "print(sum(p.nelement() for p in parameters)) # number of parameters in total\n",
        "for p in parameters:\n",
        "  p.requires_grad = True"
      ],
      "metadata": {
        "colab": {
          "base_uri": "https://localhost:8080/"
        },
        "id": "S9jftCBGNISL",
        "outputId": "146533ec-c0c0-42a1-9768-2351b363c9f8"
      },
      "execution_count": null,
      "outputs": [
        {
          "output_type": "stream",
          "name": "stdout",
          "text": [
            "9697\n"
          ]
        }
      ]
    },
    {
      "cell_type": "code",
      "source": [
        "lossi=[]\n",
        "batch_size = 70\n",
        "max_steps = 200000\n",
        "for i in range(max_steps):\n",
        "\n",
        "  # minibatch construct\n",
        "  ix = torch.randint(0, Xtr.shape[0], (batch_size,), generator=g)\n",
        "  Xb, Yb = Xtr[ix], Ytr[ix] # batch X,Y\n",
        "  emb = C[Xb] # embed the characters into vectors\n",
        "  embcat = emb.view(emb.shape[0], -1) # concatenate the vectors\n",
        "  # Linear layer\n",
        "  hpreact = embcat @ W1 + b1\n",
        "\n",
        "\n",
        "  # Non-linearity\n",
        "  h = torch.tanh(hpreact)\n",
        "  logits = h @ W2 + b2 # output layer\n",
        "  loss = F.cross_entropy(logits, Yb) # loss function\n",
        "  for p in parameters:\n",
        "    p.grad = None\n",
        "  loss.backward()\n",
        "  lr = 0.1 if i < 100000 else 0.01 # step learning rate decay\n",
        "  for p in parameters:\n",
        "    p.data += -lr * p.grad\n",
        "  if i % 10000 == 0: # print every once in a while\n",
        "    print(f'{i:7d}/{max_steps:7d}: {loss.item():.4f}')\n",
        "\n",
        "  lossi.append(loss.log10().item())"
      ],
      "metadata": {
        "colab": {
          "base_uri": "https://localhost:8080/"
        },
        "id": "s9XaKRxDNPUS",
        "outputId": "71093be1-8ec0-4b05-b48b-fd945ab7d5ff"
      },
      "execution_count": null,
      "outputs": [
        {
          "output_type": "stream",
          "name": "stdout",
          "text": [
            "      0/ 200000: 3.2958\n",
            "  10000/ 200000: 2.7389\n",
            "  20000/ 200000: 2.7811\n",
            "  30000/ 200000: 2.8257\n",
            "  40000/ 200000: 2.8943\n",
            "  50000/ 200000: 2.7639\n",
            "  60000/ 200000: 2.9700\n",
            "  70000/ 200000: 2.6942\n",
            "  80000/ 200000: 2.8579\n",
            "  90000/ 200000: 2.7909\n",
            " 100000/ 200000: 2.8550\n",
            " 110000/ 200000: 2.7052\n",
            " 120000/ 200000: 2.7942\n",
            " 130000/ 200000: 2.7334\n",
            " 140000/ 200000: 2.8065\n",
            " 150000/ 200000: 2.8491\n",
            " 160000/ 200000: 2.9079\n",
            " 170000/ 200000: 2.7299\n",
            " 180000/ 200000: 2.8660\n",
            " 190000/ 200000: 2.8075\n"
          ]
        }
      ]
    },
    {
      "cell_type": "code",
      "source": [
        "@torch.no_grad() # this decorator disables gradient tracking\n",
        "def split_loss(split):\n",
        "  x,y = {\n",
        "    'train': (Xtr, Ytr),\n",
        "    'val': (Xdev, Ydev),\n",
        "    'test': (Xte, Yte),\n",
        "  }[split]\n",
        "  emb = C[x] # (N, block_size, n_embd)\n",
        "  embcat = emb.view(emb.shape[0], -1) # concat into (N, block_size * n_embd)\n",
        "  hpreact = embcat @ W1  + b1\n",
        "\n",
        "  h = torch.tanh(hpreact) # (N, n_hidden)\n",
        "  logits = h @ W2 + b2 # (N, vocab_size)\n",
        "  loss = F.cross_entropy(logits, y)\n",
        "  print(split, loss.item())\n",
        "\n",
        "split_loss('train')\n",
        "split_loss('val')"
      ],
      "metadata": {
        "colab": {
          "base_uri": "https://localhost:8080/"
        },
        "id": "qTPQ2HuXNcpA",
        "outputId": "355691d2-3ea9-4ed4-d829-b2ee595939c1"
      },
      "execution_count": null,
      "outputs": [
        {
          "output_type": "stream",
          "name": "stdout",
          "text": [
            "train 2.823745012283325\n",
            "val 2.8260042667388916\n"
          ]
        }
      ]
    },
    {
      "cell_type": "code",
      "source": [
        "class Linear:\n",
        "\n",
        "  def __init__(self, fan_in, fan_out, bias=True):\n",
        "    self.weight = torch.randn((fan_in, fan_out), generator=g) / fan_in**0.5\n",
        "    self.bias = torch.zeros(fan_out) if bias else None\n",
        "\n",
        "  def __call__(self, x):\n",
        "    self.out = x @ self.weight\n",
        "    if self.bias is not None:\n",
        "      self.out += self.bias\n",
        "    return self.out\n",
        "\n",
        "  def parameters(self):\n",
        "    return [self.weight] + ([] if self.bias is None else [self.bias])\n",
        "\n",
        "\n",
        "class BatchNorm1d:\n",
        "\n",
        "  def __init__(self, dim, eps=1e-5, momentum=0.1):\n",
        "    self.eps = eps\n",
        "    self.momentum = momentum\n",
        "    self.training = True\n",
        "    # parameters (trained with backprop)\n",
        "    self.gamma = torch.ones(dim)\n",
        "    self.beta = torch.zeros(dim)\n",
        "    # buffers (trained with a running 'momentum update')\n",
        "    self.running_mean = torch.zeros(dim)\n",
        "    self.running_var = torch.ones(dim)\n",
        "\n",
        "  def __call__(self, x):\n",
        "    # calculate the forward pass\n",
        "    if self.training:\n",
        "      xmean = x.mean(0, keepdim=True) # batch mean\n",
        "      xvar = x.var(0, keepdim=True) # batch variance\n",
        "    else:\n",
        "      xmean = self.running_mean\n",
        "      xvar = self.running_var\n",
        "    xhat = (x - xmean) / torch.sqrt(xvar + self.eps) # normalize to unit variance\n",
        "    self.out = self.gamma * xhat + self.beta\n",
        "    # update the buffers\n",
        "    if self.training:\n",
        "      with torch.no_grad():\n",
        "        self.running_mean = (1 - self.momentum) * self.running_mean + self.momentum * xmean\n",
        "        self.running_var = (1 - self.momentum) * self.running_var + self.momentum * xvar\n",
        "    return self.out\n",
        "\n",
        "  def parameters(self):\n",
        "    return [self.gamma, self.beta]\n",
        "\n",
        "class Tanh:\n",
        "  def __call__(self, x):\n",
        "    self.out = torch.tanh(x)\n",
        "    return self.out\n",
        "  def parameters(self):\n",
        "    return []\n"
      ],
      "metadata": {
        "id": "5ZeekoL5sqfx"
      },
      "execution_count": null,
      "outputs": []
    },
    {
      "cell_type": "code",
      "source": [
        "n_embd = 10 # the dimensionality of the character embedding vectors\n",
        "n_hidden = 100 # the number of neurons in the hidden layer of the MLP\n",
        "g = torch.Generator().manual_seed(2147483647) # for reproducibility"
      ],
      "metadata": {
        "id": "MlJ5avQss0ej"
      },
      "execution_count": null,
      "outputs": []
    },
    {
      "cell_type": "code",
      "source": [
        "C = torch.randn((vocab_size, n_embd),            generator=g)\n",
        "layers = [\n",
        "  Linear(n_embd * blocksize, n_hidden, bias=False), BatchNorm1d(n_hidden), Tanh(),\n",
        "  Linear(           n_hidden, n_hidden, bias=False), BatchNorm1d(n_hidden), Tanh(),\n",
        "  Linear(           n_hidden, vocab_size, bias=False), BatchNorm1d(vocab_size),\n",
        "]\n",
        "with torch.no_grad():\n",
        "  layers[-1].gamma*=0.1\n",
        "  for layer in layers[:-1]:\n",
        "    if isinstance(layer, Linear):\n",
        "      layer.weight *= 1.0\n",
        "\n",
        "parameters = [C] + [p for layer in layers for p in layer.parameters()]\n",
        "print(sum(p.nelement() for p in parameters)) # number of parameters in total\n",
        "for p in parameters:\n",
        "  p.requires_grad = True"
      ],
      "metadata": {
        "colab": {
          "base_uri": "https://localhost:8080/"
        },
        "id": "vGmHAVpas5Xf",
        "outputId": "998dbecb-373b-4678-bb7d-2967e86566b1"
      },
      "execution_count": null,
      "outputs": [
        {
          "output_type": "stream",
          "name": "stdout",
          "text": [
            "15424\n"
          ]
        }
      ]
    },
    {
      "cell_type": "code",
      "source": [
        "max_steps = 200000\n",
        "batch_size = 100\n",
        "lossi = []\n",
        "\n",
        "for i in range(max_steps):\n",
        "\n",
        "  # minibatch construct\n",
        "  ix = torch.randint(0, Xtr.shape[0], (batch_size,), generator=g)\n",
        "  Xb, Yb = Xtr[ix], Ytr[ix] # batch X,Y\n",
        "\n",
        "  # forward pass\n",
        "  emb = C[Xb] # embed the characters into vectors\n",
        "  x = emb.view(emb.shape[0], -1) # concatenate the vectors\n",
        "  for layer in layers:\n",
        "    x = layer(x)\n",
        "  loss = F.cross_entropy(x, Yb) # loss function\n",
        "\n",
        "  # backward pass\n",
        "  for layer in layers:\n",
        "    layer.out.retain_grad() # AFTER_DEBUG: would take out retain_graph\n",
        "  for p in parameters:\n",
        "    p.grad = None\n",
        "  loss.backward()\n",
        "\n",
        "  # update\n",
        "  lr = 0.1 if i < 150000 else 0.01 # step learning rate decay\n",
        "  for p in parameters:\n",
        "    p.data += -lr * p.grad\n",
        "\n",
        "  # track stats\n",
        "  if i % 10000 == 0: # print every once in a while\n",
        "    print(f'{i:7d}/{max_steps:7d}: {loss.item():.4f}')\n",
        "\n",
        "  lossi.append(loss.log10().item())\n"
      ],
      "metadata": {
        "colab": {
          "base_uri": "https://localhost:8080/"
        },
        "id": "vGlxfoy4t8iD",
        "outputId": "ad05f497-c9c7-474b-c5be-52ed2d20369d"
      },
      "execution_count": null,
      "outputs": [
        {
          "output_type": "stream",
          "name": "stdout",
          "text": [
            "      0/ 200000: 3.1877\n",
            "  10000/ 200000: 2.8221\n",
            "  20000/ 200000: 2.8222\n",
            "  30000/ 200000: 3.0149\n",
            "  40000/ 200000: 2.7379\n",
            "  50000/ 200000: 2.7921\n",
            "  60000/ 200000: 2.8072\n",
            "  70000/ 200000: 2.7852\n",
            "  80000/ 200000: 2.8211\n",
            "  90000/ 200000: 2.9024\n",
            " 100000/ 200000: 2.8545\n",
            " 110000/ 200000: 2.8069\n",
            " 120000/ 200000: 2.7154\n",
            " 130000/ 200000: 2.8438\n",
            " 140000/ 200000: 2.7213\n",
            " 150000/ 200000: 2.9383\n",
            " 160000/ 200000: 2.8471\n",
            " 170000/ 200000: 2.8159\n",
            " 180000/ 200000: 2.9120\n",
            " 190000/ 200000: 2.8617\n"
          ]
        }
      ]
    },
    {
      "cell_type": "code",
      "source": [
        "@torch.no_grad() # this decorator disables gradient tracking\n",
        "def split_loss(split):\n",
        "  x,y = {\n",
        "    'train': (Xtr, Ytr),\n",
        "    'val': (Xdev, Ydev),\n",
        "    'test': (Xte, Yte),\n",
        "  }[split]\n",
        "  emb = C[x] # (N, block_size, n_embd)\n",
        "  x = emb.view(emb.shape[0], -1) # concat into (N, block_size * n_embd)\n",
        "  for layer in layers:\n",
        "    x = layer(x)\n",
        "  loss = F.cross_entropy(x, y)\n",
        "  print(split, loss.item())\n",
        "\n",
        "# put layers into eval mode\n",
        "for layer in layers:\n",
        "  layer.training = False\n",
        "split_loss('train')\n",
        "split_loss('val')"
      ],
      "metadata": {
        "colab": {
          "base_uri": "https://localhost:8080/"
        },
        "id": "O9BJQtB7x8UW",
        "outputId": "6ba0aaa8-5985-4e78-b1e7-cfe4f1e19273"
      },
      "execution_count": null,
      "outputs": [
        {
          "output_type": "stream",
          "name": "stdout",
          "text": [
            "train 3.2005159854888916\n",
            "val 3.2006030082702637\n"
          ]
        }
      ]
    }
  ]
}